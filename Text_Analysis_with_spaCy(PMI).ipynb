{
  "cells": [
    {
      "cell_type": "markdown",
      "metadata": {
        "id": "JWnf5BcLKWUX"
      },
      "source": [
        "\n",
        "###Text Analysis using spaCy\n",
        "A loop that iterates through all 100 books; for each book, print out its corresponding file name and also how long the book is in terms of string length (meaning that if we load in the book as a string, we compute the length of the string using the built-in Python function `len`; this is just counting the number of characters).\n",
        "\n"
      ]
    },
    {
      "cell_type": "code",
      "execution_count": null,
      "metadata": {
        "colab": {
          "base_uri": "https://localhost:8080/"
        },
        "id": "8nYD90JYKWUY",
        "outputId": "7f9f00f0-91d5-459a-a67f-0d3db93a36f9"
      },
      "outputs": [
        {
          "output_type": "stream",
          "name": "stdout",
          "text": [
            "./HW1_Dataset/My Secret Life, Volumes I. to III. by Anonymous (157).txt 1378627\n",
            "./HW1_Dataset/My Fifteen Lost Years by Florence Elizabeth Maybrick (499).txt 383694\n",
            "./HW1_Dataset/Narrative of the Captivity and Restoration of Mrs. Mary Rowlandson by Mary White Rowlandson (222).txt 123784\n",
            "./HW1_Dataset/Through the Looking-Glass by Lewis Carroll (134).txt 181667\n",
            "./HW1_Dataset/The Divine Comedy by Dante, Illustrated by Dante Alighieri (119).txt 2161\n",
            "./HW1_Dataset/Alice in Wonderland by Lewis Carroll and Alice Gerstenberg (126).txt 104079\n",
            "./HW1_Dataset/Jane Eyre_ An Autobiography by Charlotte Brontë (290) (Unicode Encoding Conflict).txt 1049267\n",
            "./HW1_Dataset/The Hound of the Baskervilles by Arthur Conan Doyle (223).txt 339188\n",
            "./HW1_Dataset/The Tragedy of Romeo and Juliet by William Shakespeare (131).txt 174128\n",
            "./HW1_Dataset/Liberalism by L. T.  Hobhouse (119).txt 305345\n",
            "./HW1_Dataset/Essays by Ralph Waldo Emerson by Ralph Waldo Emerson (239).txt 557197\n",
            "./HW1_Dataset/The Legend of Sleepy Hollow by Washington Irving (399).txt 89237\n",
            "./HW1_Dataset/The Federalist Papers by Alexander Hamilton and John Jay and James Madison (116).txt 1167141\n",
            "./HW1_Dataset/Leaves of Grass by Walt Whitman (164).txt 757361\n",
            "./HW1_Dataset/The Turn of the Screw by Henry James (185).txt 248089\n",
            "./HW1_Dataset/Prestuplenie i nakazanie. English by Fyodor Dostoyevsky (160).txt 1154508\n",
            "./HW1_Dataset/Sense and Sensibility by Jane Austen (177).txt 693095\n",
            "./HW1_Dataset/The Picture of Dorian Gray by Oscar Wilde (282).txt 453169\n",
            "./HW1_Dataset/A Modest Proposal by Jonathan Swift (233).txt 38966\n",
            "./HW1_Dataset/A Christmas Carol in Prose; Being a Ghost Story of Christmas by Charles Dickens (265).txt 177758\n",
            "./HW1_Dataset/The Philosophy of Spiritual Activity by Rudolf Steiner (144).txt 545031\n",
            "./HW1_Dataset/The Wendigo by Algernon Blackwood (174).txt 127464\n",
            "./HW1_Dataset/Narrative of the Life of Frederick Douglass, an American Slave by Frederick Douglass (243).txt 244263\n",
            "./HW1_Dataset/The Souls of Black Folk by W. E. B.  Du Bois (172).txt 421336\n",
            "./HW1_Dataset/Alice's Adventures in Wonderland by Lewis Carroll (564).txt 163817\n",
            "./HW1_Dataset/The Interesting Narrative of the Life of Olaudah Equiano, Or Gustavus Vassa, The African by Equiano (114).txt 471165\n",
            "./HW1_Dataset/The Innocents Abroad by Mark Twain (108).txt 1126278\n",
            "./HW1_Dataset/Carmilla by Joseph Sheridan Le Fanu (135).txt 176408\n",
            "./HW1_Dataset/Siddhartha by Hermann Hesse (216).txt 236855\n",
            "./HW1_Dataset/On Liberty by John Stuart Mill (116).txt 325922\n",
            "./HW1_Dataset/A Study in Scarlet by Arthur Conan Doyle (163).txt 262340\n",
            "./HW1_Dataset/The Law of Storms by John Wilson Ross (110).txt 65264\n",
            "./HW1_Dataset/Grimms' Fairy Tales by Jacob Grimm and Wilhelm Grimm (429).txt 540241\n",
            "./HW1_Dataset/Heart of Darkness by Joseph Conrad (213).txt 229835\n",
            "./HW1_Dataset/Outpost in the Wilderness_ Fort Wayne, 1706-1828 by Charles Poinsatte (161).txt 363234\n",
            "./HW1_Dataset/The Tragical History of Doctor Faustus by Christopher Marlowe (144).txt 143736\n",
            "./HW1_Dataset/Moby Dick; Or, The Whale by Herman Melville (413).txt 1238569\n",
            "./HW1_Dataset/Democracy in America — Volume 1 by Alexis de Tocqueville (147).txt 1148435\n",
            "./HW1_Dataset/War and Peace by graf Leo Tolstoy (251).txt 3227580\n",
            "./HW1_Dataset/Adventures of Huckleberry Finn by Mark Twain (401).txt 593962\n",
            "./HW1_Dataset/Wuthering Heights by Emily Brontë (179) (Unicode Encoding Conflict).txt 669150\n",
            "./HW1_Dataset/Common Sense by Thomas Paine (297).txt 145353\n",
            "./HW1_Dataset/The Boy Fortune Hunters in the South Seas by L. Frank  Baum (150).txt 266166\n",
            "./HW1_Dataset/The Awakening, and Selected Short Stories by Kate Chopin (192).txt 378936\n",
            "./HW1_Dataset/Frankenstein; Or, The Modern Prometheus by Mary Wollstonecraft Shelley (501).txt 441034\n",
            "./HW1_Dataset/The Life and Adventures of Robinson Crusoe by Daniel Defoe (126).txt 642909\n",
            "./HW1_Dataset/The History of the Peloponnesian War by Thucydides (122).txt 1200021\n",
            "./HW1_Dataset/The Guardsman by Homer Greene (175).txt 412900\n",
            "./HW1_Dataset/The Odyssey by Homer (124).txt 697404\n",
            "./HW1_Dataset/A History of Spanish Literature by James Fitzmaurice-Kelly (109).txt 765918\n",
            "./HW1_Dataset/The Peddler Spy by W. J. Hamilton (356).txt 197390\n",
            "./HW1_Dataset/The Republic by Plato (246).txt 1214387\n",
            "./HW1_Dataset/Candide by Voltaire (180).txt 224924\n",
            "./HW1_Dataset/A Tale of Two Cities by Charles Dickens (425).txt 776702\n",
            "./HW1_Dataset/Gulliver's Travels into Several Remote Nations of the World by Jonathan Swift (136).txt 600105\n",
            "./HW1_Dataset/The Works of Edgar Allan Poe — Volume 2 by Edgar Allan Poe (137).txt 569966\n",
            "./HW1_Dataset/Emma by Jane Austen (166).txt 902390\n",
            "./HW1_Dataset/The Iliad by Homer (256).txt 1175588\n",
            "./HW1_Dataset/Pride and Prejudice by Jane Austen (1003).txt 704192\n",
            "./HW1_Dataset/Uncle Tom's Cabin by Harriet Beecher Stowe (108).txt 1025501\n",
            "./HW1_Dataset/Essays of Michel de Montaigne — Complete by Michel de Montaigne (205).txt 3033575\n",
            "./HW1_Dataset/Beyond Good and Evil by Friedrich Wilhelm Nietzsche (120).txt 402273\n",
            "./HW1_Dataset/Dubliners by James Joyce (219).txt 389199\n",
            "./HW1_Dataset/Ulysses by James Joyce (282).txt 1534140\n",
            "./HW1_Dataset/Et dukkehjem. English by Henrik Ibsen (557).txt 161241\n",
            "./HW1_Dataset/The Complete Works of William Shakespeare by William Shakespeare (132).txt 5465100\n",
            "./HW1_Dataset/Hedda Gabler by Henrik Ibsen (123).txt 193875\n",
            "./HW1_Dataset/Il Principe. English by Niccolò Machiavelli (428) (Unicode Encoding Conflict).txt 300788\n",
            "./HW1_Dataset/The King James Version of the Bible (132).txt 4351846\n",
            "./HW1_Dataset/Les Misérables by Victor Hugo (165) (Unicode Encoding Conflict).txt 3254333\n",
            "./HW1_Dataset/The Adventures of Tom Sawyer by Mark Twain (371).txt 412712\n",
            "./HW1_Dataset/The Confessions of St. Augustine by Bishop of Hippo Saint Augustine (157).txt 622405\n",
            "./HW1_Dataset/Robert Greene by Robert Greene (126).txt 760655\n",
            "./HW1_Dataset/Beowulf An Anglo-Saxon Epic Poem (403).txt 292953\n",
            "./HW1_Dataset/The Wonderful Wizard of Oz by L. Frank  Baum (150).txt 227654\n",
            "./HW1_Dataset/The Strange Case of Dr. Jekyll and Mr. Hyde by Robert Louis Stevenson (170).txt 159542\n",
            "./HW1_Dataset/The Faery Queen and Her Knights by Alfred John Church (177).txt 447320\n",
            "./HW1_Dataset/Peter Pan by J. M.  Barrie (274).txt 278194\n",
            "./HW1_Dataset/Persuasion by Jane Austen (2234).txt 486251\n",
            "./HW1_Dataset/Autobiography of Benjamin Franklin by Benjamin Franklin (247).txt 458600\n",
            "./HW1_Dataset/The Strange Case of Dr. Jekyll and Mr. Hyde by Robert Louis Stevenson (158).txt 158048\n",
            "./HW1_Dataset/The Romance of Lust_ A Classic Victorian erotic novel by Anonymous (294).txt 1051148\n",
            "./HW1_Dataset/The Time Machine by H. G.  Wells (137).txt 198281\n",
            "./HW1_Dataset/The Importance of Being Earnest_ A Trivial Comedy for Serious People by Oscar Wilde (454).txt 138887\n",
            "./HW1_Dataset/Anne of Green Gables by L. M.  Montgomery (114).txt 580635\n",
            "./HW1_Dataset/Dracula by Bram Stoker (461).txt 867141\n",
            "./HW1_Dataset/The Count of Monte Cristo, Illustrated by Alexandre Dumas (160).txt 2643849\n",
            "./HW1_Dataset/The Boy Fortune Hunters in China by L. Frank  Baum (215).txt 324452\n",
            "./HW1_Dataset/The Yellow Wallpaper by Charlotte Perkins Gilman (462).txt 50841\n",
            "./HW1_Dataset/Leviathan by Thomas Hobbes (417).txt 1231784\n",
            "./HW1_Dataset/The Mysterious Affair at Styles by Agatha Christie (115).txt 340770\n",
            "./HW1_Dataset/Songs of Innocence, and Songs of Experience by William Blake (166).txt 51724\n",
            "./HW1_Dataset/Metamorphosis by Franz Kafka (483).txt 139056\n",
            "./HW1_Dataset/Walden, and On The Duty Of Civil Disobedience by Henry David Thoreau (180).txt 656207\n",
            "./HW1_Dataset/The Scarlet Letter by Nathaniel Hawthorne (211).txt 506975\n",
            "./HW1_Dataset/Great Expectations by Charles Dickens (293).txt 1013450\n",
            "./HW1_Dataset/Treasure Island by Robert Louis Stevenson (236).txt 383675\n",
            "./HW1_Dataset/The Kama Sutra of Vatsyayana by Vatsyayana (172).txt 351664\n",
            "./HW1_Dataset/The Adventures of Sherlock Holmes by Arthur Conan Doyle (447).txt 581864\n",
            "./HW1_Dataset/Semmering 1912 by Peter Altenberg (221).txt 264946\n"
          ]
        }
      ],
      "source": [
        "import glob\n",
        "import os\n",
        "\n",
        "txt_files = glob.glob('./HW1_Dataset/*.txt')\n",
        "\n",
        "for file_path in txt_files:\n",
        "    with open(file_path, 'r', encoding='utf-8') as file:\n",
        "        contents = file.read()\n",
        "\n",
        "    print(f\"{file_path} {len(contents)}\")"
      ]
    },
    {
      "cell_type": "markdown",
      "metadata": {
        "id": "vFUbVYwDKWUb"
      },
      "source": [
        "Print out the top 15 longest books (in terms of raw string length, which is what you had already computed)."
      ]
    },
    {
      "cell_type": "code",
      "execution_count": null,
      "metadata": {
        "colab": {
          "base_uri": "https://localhost:8080/"
        },
        "id": "_KjEJROpKWUb",
        "outputId": "8906eb24-71b1-4d69-f25f-bcd912c9e0df"
      },
      "outputs": [
        {
          "output_type": "stream",
          "name": "stdout",
          "text": [
            "Top 15 Longest Books:\n",
            "1. 5465100 ./HW1_Dataset/The Complete Works of William Shakespeare by William Shakespeare (132).txt\n",
            "2. 4351846 ./HW1_Dataset/The King James Version of the Bible (132).txt\n",
            "3. 3254333 ./HW1_Dataset/Les Misérables by Victor Hugo (165) (Unicode Encoding Conflict).txt\n",
            "4. 3227580 ./HW1_Dataset/War and Peace by graf Leo Tolstoy (251).txt\n",
            "5. 3033575 ./HW1_Dataset/Essays of Michel de Montaigne — Complete by Michel de Montaigne (205).txt\n",
            "6. 2643849 ./HW1_Dataset/The Count of Monte Cristo, Illustrated by Alexandre Dumas (160).txt\n",
            "7. 1534140 ./HW1_Dataset/Ulysses by James Joyce (282).txt\n",
            "8. 1378627 ./HW1_Dataset/My Secret Life, Volumes I. to III. by Anonymous (157).txt\n",
            "9. 1238569 ./HW1_Dataset/Moby Dick; Or, The Whale by Herman Melville (413).txt\n",
            "10. 1231784 ./HW1_Dataset/Leviathan by Thomas Hobbes (417).txt\n",
            "11. 1214387 ./HW1_Dataset/The Republic by Plato (246).txt\n",
            "12. 1200021 ./HW1_Dataset/The History of the Peloponnesian War by Thucydides (122).txt\n",
            "13. 1175588 ./HW1_Dataset/The Iliad by Homer (256).txt\n",
            "14. 1167141 ./HW1_Dataset/The Federalist Papers by Alexander Hamilton and John Jay and James Madison (116).txt\n",
            "15. 1154508 ./HW1_Dataset/Prestuplenie i nakazanie. English by Fyodor Dostoyevsky (160).txt\n"
          ]
        }
      ],
      "source": [
        "from collections import OrderedDict\n",
        "\n",
        "txt_files = glob.glob('./HW1_Dataset/*.txt')\n",
        "\n",
        "files_lengths = OrderedDict()\n",
        "\n",
        "for file_path in txt_files:\n",
        "    with open(file_path, 'r', encoding='utf-8') as file:\n",
        "        contents = file.read()\n",
        "        files_lengths[file_path] = len(contents)\n",
        "\n",
        "sorted_files = sorted(files_lengths.items(), key=lambda x: x[1], reverse=True)\n",
        "\n",
        "print(\"Top 15 Longest Books:\")\n",
        "for i, (file_path, length) in enumerate(sorted_files[:15], start=1):\n",
        "    print(f\"{i}. {length} {file_path}\")"
      ]
    },
    {
      "cell_type": "markdown",
      "metadata": {
        "id": "h_9Vi4X4KWUc"
      },
      "source": [
        "As a toy example, suppose that a book's text is `'cat dog shark spam eggs'` and we want to split it up into batches where each batch has at most 3 words. Then we could split up the book's text into two batches/pieces: `'cat dog shark'` and `'spam eggs'`.\n",
        "\n",
        "Code for that:"
      ]
    },
    {
      "cell_type": "code",
      "execution_count": null,
      "metadata": {
        "colab": {
          "base_uri": "https://localhost:8080/"
        },
        "id": "lLFpkCheKWUd",
        "outputId": "0daab56e-77fe-4ae4-eef3-c9a0dafab984"
      },
      "outputs": [
        {
          "output_type": "stream",
          "name": "stdout",
          "text": [
            "['cat dog shark', 'spam eggs']\n"
          ]
        }
      ],
      "source": [
        "import numpy as np\n",
        "\n",
        "def split_into_batches(book_text, max_num_words_per_batch):\n",
        "    words_split_on_spaces = book_text.split(' ')\n",
        "    num_book_pieces = int(np.ceil(len(words_split_on_spaces) / max_num_words_per_batch))\n",
        "    batches = []\n",
        "    for piece_idx in range(num_book_pieces):\n",
        "        start_idx = piece_idx * max_num_words_per_batch\n",
        "        end_idx = (piece_idx + 1) * max_num_words_per_batch\n",
        "        if end_idx > len(words_split_on_spaces):\n",
        "            end_idx = len(words_split_on_spaces)\n",
        "        book_piece = ' '.join(words_split_on_spaces[start_idx:end_idx])\n",
        "        batches.append(book_piece)\n",
        "    return batches\n",
        "\n",
        "print(split_into_batches('cat dog shark spam eggs', 3))"
      ]
    },
    {
      "cell_type": "markdown",
      "metadata": {
        "id": "m6KnNx3EKWUd"
      },
      "source": [
        "A loop that goes through all 100 books again. However, for each book, split it up into batches so that each batch has at most 10000 words."
      ]
    },
    {
      "cell_type": "code",
      "execution_count": null,
      "metadata": {
        "colab": {
          "base_uri": "https://localhost:8080/"
        },
        "id": "9zIqks2eKWUd",
        "outputId": "521a2756-a034-4bde-9c8b-7f99b6bea8b8"
      },
      "outputs": [
        {
          "output_type": "stream",
          "name": "stdout",
          "text": [
            "Total number of batches: 1246\n"
          ]
        }
      ],
      "source": [
        "import numpy as np\n",
        "\n",
        "def split_into_batches(book_text, max_num_words_per_batch=10000):\n",
        "    words_split_on_spaces = book_text.split(' ')\n",
        "    num_book_pieces = int(np.ceil(len(words_split_on_spaces) / max_num_words_per_batch))\n",
        "    batches = []\n",
        "\n",
        "    for piece_idx in range(num_book_pieces):\n",
        "        start_idx = piece_idx * max_num_words_per_batch\n",
        "        end_idx = (piece_idx + 1) * max_num_words_per_batch\n",
        "        if end_idx > len(words_split_on_spaces):\n",
        "            end_idx = len(words_split_on_spaces)\n",
        "        book_piece = ' '.join(words_split_on_spaces[start_idx:end_idx])\n",
        "        batches.append(book_piece)\n",
        "\n",
        "    return batches\n",
        "\n",
        "txt_files = glob.glob('./HW1_Dataset/*.txt')\n",
        "\n",
        "total_batches = 0\n",
        "\n",
        "for file_path in txt_files:\n",
        "    with open(file_path, 'r', encoding='utf-8') as file:\n",
        "        contents = file.read()\n",
        "        batches = split_into_batches(contents)\n",
        "        total_batches += len(batches)\n",
        "\n",
        "print(f\"Total number of batches: {total_batches}\")"
      ]
    },
    {
      "cell_type": "markdown",
      "metadata": {
        "id": "pidgsC7rKWUe"
      },
      "source": [
        "  1. Split it up into batches where each batch has at most 10000 words.\n",
        "  2. For each batch:\n",
        "    1. Process the batch by separating and lemmatizing the words\n",
        "    2. Count the number of times each lemma appears and add these to the frequency table.\n",
        "\n",
        "After looping through all 100 books, you should have the term frequency table for the entire corpus (importantly, the frequency table should not just be for a single book; it should be for all 100 books). Sort the table and print the top 50 most frequent words, along with their frequencies and ranks. Don't worry about ties (for example, if multiple things have the same frequency, it's fine if your solution breaks ties arbitrarily in the sorting)."
      ]
    },
    {
      "cell_type": "code",
      "execution_count": null,
      "metadata": {
        "colab": {
          "base_uri": "https://localhost:8080/"
        },
        "id": "JueXPGcEKWUe",
        "outputId": "b7ae30ec-301d-4d8b-af44-52177f7f7460"
      },
      "outputs": [
        {
          "output_type": "stream",
          "name": "stdout",
          "text": [
            "Top 50 Most Frequent Words:\n",
            "1. the (702465)\n",
            "2. be (436114)\n",
            "3. and (435424)\n",
            "4. of (386347)\n",
            "5. to (324409)\n",
            "6. I (255129)\n",
            "7. a (233423)\n",
            "8. in (204252)\n",
            "9. he (193622)\n",
            "10. that (159010)\n",
            "11. have (158746)\n",
            "12. it (135431)\n",
            "13. not (111854)\n",
            "14. his (108536)\n",
            "15. you (102595)\n",
            "16. with (101227)\n",
            "17. they (96821)\n",
            "18. for (95320)\n",
            "19. as (90702)\n",
            "20. she (78524)\n",
            "21. but (75599)\n",
            "22. my (73983)\n",
            "23. do (68758)\n",
            "24. at (64947)\n",
            "25. on (62833)\n",
            "26. by (61274)\n",
            "27. this (61240)\n",
            "28. we (60300)\n",
            "29. which (58868)\n",
            "30. all (58636)\n",
            "31. say (58348)\n",
            "32. from (50095)\n",
            "33. so (47999)\n",
            "34. or (47810)\n",
            "35. her (42838)\n",
            "36. one (41123)\n",
            "37. will (40920)\n",
            "38. man (39585)\n",
            "39. their (38418)\n",
            "40. what (37851)\n",
            "41. no (37808)\n",
            "42. there (37209)\n",
            "43. if (34898)\n",
            "44. go (33899)\n",
            "45. when (33587)\n",
            "46. an (32517)\n",
            "47. come (32358)\n",
            "48. see (32024)\n",
            "49. would (31289)\n",
            "50. who (30934)\n"
          ]
        }
      ],
      "source": [
        "import spacy\n",
        "import re\n",
        "from collections import Counter\n",
        "\n",
        "nlp = spacy.load('en_core_web_sm', disable=['ner', 'parser'])\n",
        "\n",
        "txt_files = glob.glob('./HW1_Dataset/*.txt')\n",
        "\n",
        "term_freq_table = Counter()\n",
        "\n",
        "def split_into_batches(book_text, max_num_words_per_batch=10000):\n",
        "    words_split_on_spaces = book_text.split(' ')\n",
        "    num_book_pieces = int(np.ceil(len(words_split_on_spaces) / max_num_words_per_batch))\n",
        "    batches = []\n",
        "\n",
        "    for piece_idx in range(num_book_pieces):\n",
        "        start_idx = piece_idx * max_num_words_per_batch\n",
        "        end_idx = (piece_idx + 1) * max_num_words_per_batch\n",
        "        if end_idx > len(words_split_on_spaces):\n",
        "            end_idx = len(words_split_on_spaces)\n",
        "        book_piece = ' '.join(words_split_on_spaces[start_idx:end_idx])\n",
        "        batches.append(book_piece)\n",
        "\n",
        "    return batches\n",
        "\n",
        "for file_path in txt_files:\n",
        "    with open(file_path, 'r', encoding='utf-8') as file:\n",
        "        contents = file.read()\n",
        "        batches = split_into_batches(contents)\n",
        "\n",
        "        for batch in batches:\n",
        "            doc = nlp(batch)\n",
        "            lemmas = [token.lemma_ for token in doc if re.match(r'[a-zA-Z]+$', token.lemma_)]\n",
        "            term_freq_table.update(lemmas)\n",
        "\n",
        "sorted_term_freq = sorted(term_freq_table.items(), key=lambda x: x[1], reverse=True)\n",
        "\n",
        "print(\"Top 50 Most Frequent Words:\")\n",
        "for rank, (term, freq) in enumerate(sorted_term_freq[:50], start=1):\n",
        "    print(f\"{rank}. {term} ({freq})\")"
      ]
    },
    {
      "cell_type": "markdown",
      "metadata": {
        "id": "K6tSyk2UKWUf"
      },
      "source": [
        " Visualize the frequency table by plotting a **raw scatter plot** (put frequency as the y-axis and rank as the x-axis), and a **log-log plot** (use logarithmic scales on both the x- and y- axes). Note that this should be for all words and not only the top 50. As before, for the ranks, do not worry about ties, i.e., break ties arbitrarily."
      ]
    },
    {
      "cell_type": "code",
      "execution_count": null,
      "metadata": {
        "colab": {
          "base_uri": "https://localhost:8080/",
          "height": 527
        },
        "id": "bQ_Hsv1iKWUf",
        "outputId": "9263a963-81e1-41d6-957c-34d942cb6865"
      },
      "outputs": [
        {
          "output_type": "display_data",
          "data": {
            "text/plain": [
              "<Figure size 1000x600 with 1 Axes>"
            ],
            "image/png": "[encoded data removed]"
          },
          "metadata": {}
        }
      ],
      "source": [
        "import matplotlib.pyplot as plt\n",
        "\n",
        "sorted_term_freq = sorted(term_freq_table.items(), key=lambda x: x[1], reverse=True)\n",
        "\n",
        "ranks = range(1, len(sorted_term_freq) + 1)\n",
        "frequencies = [freq for term, freq in sorted_term_freq]\n",
        "\n",
        "plt.figure(figsize=(10, 6))\n",
        "plt.scatter(ranks, frequencies, s=10)\n",
        "plt.title('Raw Scatter plot for Rank-Frequency')\n",
        "plt.xlabel('Rank', fontsize=14)\n",
        "plt.ylabel('Frequency', fontsize=14)\n",
        "plt.show()"
      ]
    },
    {
      "cell_type": "code",
      "execution_count": null,
      "metadata": {
        "colab": {
          "base_uri": "https://localhost:8080/",
          "height": 550
        },
        "id": "b5jWLj7OKWUg",
        "outputId": "71bdf1fd-6a21-4a03-d549-79e3ac5e60e3"
      },
      "outputs": [
        {
          "output_type": "display_data",
          "data": {
            "text/plain": [
              "<Figure size 1000x600 with 1 Axes>"
            ],
            "image/png": "[encoded data removed]"
          },
          "metadata": {}
        }
      ],
      "source": [
        "# Log-log plot\n",
        "plt.figure(figsize=(10, 6))\n",
        "plt.loglog(ranks, frequencies, 'ro', markersize=4)\n",
        "plt.title('Log-Log Plot of Rank-Frequencies', fontsize=16)\n",
        "plt.xlabel('Rank (log scale)', fontsize=14)\n",
        "plt.ylabel('Frequency (log scale)', fontsize=14)\n",
        "plt.show()"
      ]
    },
    {
      "cell_type": "markdown",
      "metadata": {
        "id": "-kIDUqy5KWUh"
      },
      "source": [
        "\n",
        "From the log-log plot, we can observe that the relationship between the frequency and rank of terms roughly follows a straight line with a negative slope, which is consistent with the power law distribution.\n",
        "<p>\n",
        "The linearity in the log-log plot suggests that the term frequency decays according to a power law as the rank increases."
      ]
    },
    {
      "cell_type": "markdown",
      "metadata": {
        "id": "NFQ23fvkKWUh"
      },
      "source": [
        " What is the probability of drawing one of the 4 most frequent alphabetic lemmas? What is the probability of drawing one of the 50 most frequent alphabetic lemmas?"
      ]
    },
    {
      "cell_type": "code",
      "execution_count": null,
      "metadata": {
        "colab": {
          "base_uri": "https://localhost:8080/"
        },
        "id": "OUQPoIwtKWUh",
        "outputId": "b2ccd963-47af-4fd6-e835-15963347a7be"
      },
      "outputs": [
        {
          "output_type": "stream",
          "name": "stdout",
          "text": [
            "Probability of drawing one of the 4 most frequent alphabetic lemmas: \n",
            "0.1622357591331735\n",
            "Probability of drawing one of the 50 most frequent alphabetic lemmas: \n",
            "0.48313616242395213\n"
          ]
        }
      ],
      "source": [
        "print('Probability of drawing one of the 4 most frequent alphabetic lemmas: ')\n",
        "\n",
        "top_4_freq = sum(freq for _, freq in sorted_term_freq[:4])\n",
        "top_50_freq = sum(freq for _, freq in sorted_term_freq[:50])\n",
        "total_freq = sum(term_freq_table.values())\n",
        "\n",
        "prob_top_4 = top_4_freq / total_freq\n",
        "print(prob_top_4)\n",
        "\n",
        "print('Probability of drawing one of the 50 most frequent alphabetic lemmas: ')\n",
        "prob_top_50 = top_50_freq / total_freq\n",
        "print(prob_top_50)"
      ]
    },
    {
      "cell_type": "markdown",
      "metadata": {
        "id": "ZIzXLPYaKWUi"
      },
      "source": [
        "What proportion of the alphabetic lemmas occur only once? What proportion of the alphabetic lemmas occur fewer than 10 times?"
      ]
    },
    {
      "cell_type": "code",
      "execution_count": null,
      "metadata": {
        "scrolled": true,
        "colab": {
          "base_uri": "https://localhost:8080/"
        },
        "id": "Y8GsqKtXKWUi",
        "outputId": "5308cd8d-6f62-4d90-d15f-d8490fb502fc"
      },
      "outputs": [
        {
          "output_type": "stream",
          "name": "stdout",
          "text": [
            "Occur only once: \n",
            "0.44752296068407005\n",
            "Occur fewer than 10 times: \n",
            "0.7815500158349545\n"
          ]
        }
      ],
      "source": [
        "print(\"Occur only once: \")\n",
        "unique_lemmas = sum(freq == 1 for lemma, freq in term_freq_table.items() if re.match(r'[a-zA-Z]+$', lemma))\n",
        "\n",
        "total_alphabetic_lemmas = sum(1 for lemma in term_freq_table if re.match(r'[a-zA-Z]+$', lemma))\n",
        "\n",
        "prop_unique = unique_lemmas / total_alphabetic_lemmas\n",
        "print(prop_unique)\n",
        "\n",
        "print(\"Occur fewer than 10 times: \")\n",
        "\n",
        "infrequent_lemmas = sum(freq < 10 for lemma, freq in term_freq_table.items() if re.match(r'[a-zA-Z]+$', lemma))\n",
        "\n",
        "prop_infrequent = infrequent_lemmas / total_alphabetic_lemmas\n",
        "print(prop_infrequent)"
      ]
    },
    {
      "cell_type": "markdown",
      "metadata": {
        "id": "WdifIxe1KWUj"
      },
      "source": [
        "Draw a bar chart in which one of the axes shows entity labels and the other shows the frequency of the corresponding label. Use the variables `reuters_nlp` and `label_counter` provided in the code below."
      ]
    },
    {
      "cell_type": "code",
      "source": [
        "import nltk\n",
        "nltk.download('reuters')"
      ],
      "metadata": {
        "colab": {
          "base_uri": "https://localhost:8080/"
        },
        "id": "1FxwBSUqc1ky",
        "outputId": "1cf10482-594b-4d2f-c81c-2496061cedf1"
      },
      "execution_count": null,
      "outputs": [
        {
          "output_type": "stream",
          "name": "stderr",
          "text": [
            "[nltk_data] Downloading package reuters to /root/nltk_data...\n"
          ]
        },
        {
          "output_type": "execute_result",
          "data": {
            "text/plain": [
              "True"
            ]
          },
          "metadata": {},
          "execution_count": 3
        }
      ]
    },
    {
      "cell_type": "code",
      "execution_count": null,
      "metadata": {
        "scrolled": false,
        "colab": {
          "base_uri": "https://localhost:8080/",
          "height": 649
        },
        "id": "yC2W7fmWKWUj",
        "outputId": "d899b5c1-6a6f-4b76-bb79-840ef313d16f"
      },
      "outputs": [
        {
          "output_type": "stream",
          "name": "stderr",
          "text": [
            "/usr/local/lib/python3.10/dist-packages/spacy/pipeline/lemmatizer.py:211: UserWarning: [W108] The rule-based lemmatizer did not find POS annotation for one or more tokens. Check that your pipeline includes components that assign token.pos, typically 'tagger'+'attribute_ruler' or 'morphologizer'.\n",
            "  warnings.warn(Warnings.W108)\n"
          ]
        },
        {
          "output_type": "display_data",
          "data": {
            "text/plain": [
              "<Figure size 1000x600 with 1 Axes>"
            ],
            "image/png": "[encoded data removed]"
          },
          "metadata": {}
        }
      ],
      "source": [
        "import matplotlib.pyplot as plt\n",
        "from collections import Counter\n",
        "from nltk.corpus import reuters\n",
        "import re\n",
        "import spacy\n",
        "nlp = spacy.load('en_core_web_sm', disable=['parser', 'tagger'])\n",
        "reuters_fileids = reuters.fileids()  # hint: when first debugging, consider looking at just the first few\n",
        "reuters_nlp = [nlp(re.sub('\\s+',' ', reuters.raw(i)).strip()) for i in reuters_fileids]\n",
        "label_counter = Counter()\n",
        "\n",
        "for doc in reuters_nlp:\n",
        "    label_counter.update([ent.label_ for ent in doc.ents])\n",
        "\n",
        "labels, frequencies = zip(*label_counter.items())\n",
        "\n",
        "plt.figure(figsize=(10, 6))\n",
        "plt.bar(labels, frequencies, color='skyblue')\n",
        "plt.xlabel('Entity Labels')\n",
        "plt.ylabel('Frequency')\n",
        "plt.title('Frequency of Named Entity Labels in Reuters Corpus')\n",
        "plt.xticks(rotation=45)\n",
        "plt.show()"
      ]
    },
    {
      "cell_type": "markdown",
      "metadata": {
        "id": "mWqjNqViKWUj"
      },
      "source": [
        "List the top 10 most frequently occurring entities (entity text and the number of occurence) with label `ORG` (organization). Separately list the top 10 most frequently occurring entities with label `GPE` (geopolitical entity such as countries, cities, states) respectively.\n"
      ]
    },
    {
      "cell_type": "code",
      "execution_count": null,
      "metadata": {
        "colab": {
          "base_uri": "https://localhost:8080/"
        },
        "id": "lDTwnf8YKWUj",
        "outputId": "c10c441e-17ec-422e-dbea-82d54d0b80f9"
      },
      "outputs": [
        {
          "output_type": "stream",
          "name": "stdout",
          "text": [
            "Top 10 'ORG' entities:\n",
            "Cts (1115)\n",
            "Reuters (444)\n",
            "The securities and exchange commission (248)\n",
            "Ec (231)\n",
            "Fed (230)\n",
            "Treasury (228)\n",
            "Cts net (179)\n",
            "The u.s. agriculture department (170)\n",
            "Usda (154)\n",
            "The bank of england (143)\n",
            "\n",
            "Top 10 'GPE' entities:\n",
            "U.s. (1631)\n",
            "Japan (579)\n",
            "The united states (383)\n",
            "U.k. (297)\n",
            "Canada (295)\n",
            "New york (251)\n",
            "West germany (236)\n",
            "Washington (230)\n",
            "London (216)\n",
            "Brazil (201)\n"
          ]
        }
      ],
      "source": [
        "from collections import Counter\n",
        "org_counter = Counter()\n",
        "gpe_counter = Counter()\n",
        "\n",
        "for doc in reuters_nlp:\n",
        "    org_entities = set()\n",
        "    gpe_entities = set()\n",
        "    for ent in doc.ents:\n",
        "        if ent.label_ == 'ORG':\n",
        "            org_entities.add(ent.text.lower())\n",
        "        elif ent.label_ == 'GPE':\n",
        "            gpe_entities.add(ent.text.lower())\n",
        "    for org_entity in org_entities:\n",
        "        org_counter[org_entity] += 1\n",
        "    for gpe_entity in gpe_entities:\n",
        "        gpe_counter[gpe_entity] += 1\n",
        "\n",
        "# List the top 10 most frequently occurring entities with label 'ORG'\n",
        "print(\"Top 10 'ORG' entities:\")\n",
        "for entity, count in org_counter.most_common(10):\n",
        "    print(f\"{entity.capitalize()} ({count})\")\n",
        "\n",
        "# List the top 10 most frequently occurring entities with label 'GPE'\n",
        "print(\"\\nTop 10 'GPE' entities:\")\n",
        "for entity, count in gpe_counter.most_common(10):\n",
        "    print(f\"{entity.capitalize()} ({count})\")"
      ]
    },
    {
      "cell_type": "markdown",
      "metadata": {
        "id": "_jC49LDDKWUk"
      },
      "source": [
        "Give the top 50 `GPE` (countries, cities, states) entities that have the highest Pointwise Mutual Information (PMI) values with regard to the `ORG` (organization) entity **'opec'** (your list of this top 50 should be ranked in decreasing PMI value)\n"
      ]
    },
    {
      "cell_type": "code",
      "execution_count": null,
      "metadata": {
        "colab": {
          "base_uri": "https://localhost:8080/"
        },
        "id": "AB1g12P1KWUk",
        "outputId": "75af56c9-b8c5-4fb0-8989-bc4017ec9497"
      },
      "outputs": [
        {
          "output_type": "stream",
          "name": "stdout",
          "text": [
            "Top 50 'GPE' entities with highest PMI values with regard to 'opec':\n",
            "Brent (4.48)\n",
            "Ula fields (4.48)\n",
            "Emirates (4.48)\n",
            "The lake charles (4.48)\n",
            "Franco (4.48)\n",
            "Bethesda (4.48)\n",
            "Gabon (4.48)\n",
            "Opec (4.48)\n",
            "Saudi arabia reiterates commitment to (4.48)\n",
            "Yanbu (4.48)\n",
            "El salado (4.48)\n",
            "Aguarico (4.48)\n",
            "Jubail (4.48)\n",
            "Ju'aymah (4.48)\n",
            "Ras tanurah (4.48)\n",
            "Tripoli (4.48)\n",
            "Doha (4.48)\n",
            "Guayaquil (4.48)\n",
            "Tihamah (4.48)\n",
            "Redoglia (4.48)\n",
            "Carrington (4.48)\n",
            "Materialy (4.48)\n",
            "Vienna (4.32)\n",
            "Riyadh (4.26)\n",
            "Saudi arabia's (4.11)\n",
            "Balao (4.08)\n",
            "Quito (4.08)\n",
            "Qatar (3.93)\n",
            "Dubai (3.92)\n",
            "Caracas (3.89)\n",
            "Nigeria (3.79)\n",
            "Nordic (3.79)\n",
            "Kahan (3.79)\n",
            "Statfjord (3.79)\n",
            "Oseberg (3.79)\n",
            "Dunham (3.79)\n",
            "La (3.79)\n",
            "Libya (3.71)\n",
            "Ecuador (3.66)\n",
            "Saudi arabia (3.62)\n",
            "Kuwait (3.56)\n",
            "The united arab emirates (3.51)\n",
            "Venezuela (3.47)\n",
            "Lago agrio (3.38)\n",
            "Petromin (3.38)\n",
            "Alexandria (3.38)\n",
            "Jakarta (3.38)\n",
            "Lagos (3.38)\n",
            "Jamaica (3.23)\n",
            "Iceland (3.10)\n"
          ]
        }
      ],
      "source": [
        "import math\n",
        "opec_docs = set()\n",
        "gpe_docs = Counter()\n",
        "total_docs = len(reuters_fileids)\n",
        "for doc in reuters_nlp:\n",
        "    has_opec = False\n",
        "    gpe_entities = set()\n",
        "    for ent in doc.ents:\n",
        "        if ent.label_ == 'ORG' and ent.text.lower() == 'opec':\n",
        "            has_opec = True\n",
        "            opec_docs.add(doc)\n",
        "        elif ent.label_ == 'GPE':\n",
        "            gpe_entities.add(ent.text.lower())\n",
        "    for gpe_entity in gpe_entities:\n",
        "        gpe_docs[gpe_entity] += 1\n",
        "\n",
        "opec_count = len(opec_docs)\n",
        "pmi_values = []\n",
        "\n",
        "for gpe_entity, gpe_count in gpe_docs.items():\n",
        "    co_occur_count = sum(1 for doc in opec_docs if gpe_entity in [ent.text.lower() for ent in doc.ents if ent.label_ == 'GPE'])\n",
        "    if co_occur_count == 0 or opec_count == 0 or gpe_count == 0:\n",
        "        pmi = 0\n",
        "    else:\n",
        "        pmi = math.log((co_occur_count * total_docs) / (opec_count * gpe_count))\n",
        "    pmi_values.append((gpe_entity, pmi))\n",
        "\n",
        "pmi_values.sort(key=lambda x: x[1], reverse=True)\n",
        "\n",
        "print(\"Top 50 'GPE' entities with highest PMI values with regard to 'opec':\")\n",
        "for gpe_entity, pmi in pmi_values[:50]:\n",
        "    print(f\"{gpe_entity.capitalize()} ({pmi:.2f})\")"
      ]
    },
    {
      "cell_type": "markdown",
      "metadata": {
        "id": "TTtYpD6tKWUk"
      },
      "source": [
        "\n",
        "### Unexpected Results:\n",
        "1. **Brent:** Likely a reference to Brent Crude oil benchmark, not a geopolitical entity.\n",
        "2. **The Lake Charles:** Probably an error in entity recognition.\n",
        "3. **Franco:** Could be a person's name rather than a geopolitical entity.\n",
        "4. **Bethesda:** A city in Maryland, USA, not typically associated with OPEC.\n",
        "5. **Saudi Arabia reiterates commitment to:** A phrase containing a country name, not a GPE entity.\n",
        "6. **Various smaller cities, regions, or oil fields:** Less strongly associated with OPEC.\n",
        "\n",
        "### Reasons for Unexpected Results:\n",
        "1. Errors in named entity recognition process.\n",
        "2. Possible bias in the Reuters corpus towards certain regions/entities.\n",
        "3. Some entities may be mentioned frequently in OPEC context due to specific events or agreements.\n",
        "\n",
        "### Unsurprising Results:\n",
        "1. **Emirates, Qatar, Dubai, Saudi Arabia, Kuwait, UAE:** OPEC member countries or closely associated.\n",
        "2. **Vienna:** Headquarters of OPEC.\n",
        "3. **Nigeria, Libya, Ecuador, Venezuela:** OPEC member countries and major oil producers.\n",
        "4. **Caracas, Quito, Lagos, Riyadh:** Capital cities of OPEC member countries.\n",
        "\n",
        "### Reasons for Unsurprising Results:\n",
        "1. Strong association of these entities with OPEC due to membership, oil production, or significant locations.\n",
        "\n",
        "Overall, our analysis suggests a mix of expected and unexpected results, likely influenced by the nuances of the named entity recognition process and the characteristics of the Reuters corpus."
      ]
    },
    {
      "cell_type": "code",
      "source": [],
      "metadata": {
        "id": "faz1vCETe9tY"
      },
      "execution_count": null,
      "outputs": []
    }
  ],
  "metadata": {
    "anaconda-cloud": {},
    "kernelspec": {
      "display_name": "Python 3 (ipykernel)",
      "language": "python",
      "name": "python3"
    },
    "language_info": {
      "codemirror_mode": {
        "name": "ipython",
        "version": 3
      },
      "file_extension": ".py",
      "mimetype": "text/x-python",
      "name": "python",
      "nbconvert_exporter": "python",
      "pygments_lexer": "ipython3",
      "version": "3.11.5"
    },
    "colab": {
      "provenance": []
    }
  },
  "nbformat": 4,
  "nbformat_minor": 0
}